{
 "cells": [
  {
   "cell_type": "code",
   "execution_count": null,
   "id": "1921b08e-3676-41bc-b692-2729418a1305",
   "metadata": {},
   "outputs": [],
   "source": [
    "import tkinter as tk\n",
    "\n",
    "def button_click(number):\n",
    "    current = entry.get()\n",
    "    entry.delete(0, tk.END)\n",
    "    entry.insert(0, current + str(number))\n",
    "\n",
    "def button_clear():\n",
    "    entry.delete(0, tk.END)\n",
    "\n",
    "def button_equal():\n",
    "    current = entry.get()\n",
    "    try:\n",
    "        result = eval(current)\n",
    "        entry.delete(0, tk.END)\n",
    "        entry.insert(0, result)\n",
    "    except Exception as e:\n",
    "        entry.delete(0, tk.END)\n",
    "        entry.insert(0, \"Error\")\n",
    "\n",
    "# Create the main window\n",
    "root = tk.Tk()\n",
    "root.title(\"Calculator\")\n",
    "\n",
    "# Entry widget to display input and results\n",
    "entry = tk.Entry(root, width=20, borderwidth=5, font=(\"Arial\", 18))\n",
    "entry.grid(row=0, column=0, columnspan=4, padx=10, pady=10, ipady=10)  # Added padding and increased internal padding\n",
    "\n",
    "# Define the buttons\n",
    "buttons = [\n",
    "    '7', '8', '9', '/',\n",
    "    '4', '5', '6', '*',\n",
    "    '1', '2', '3', '-',\n",
    "    '0', '.', '=', '+'\n",
    "]\n",
    "\n",
    "# Create and place the buttons on the grid\n",
    "row_val = 1\n",
    "col_val = 0\n",
    "for button in buttons:\n",
    "    if button == '=':\n",
    "        tk.Button(root, text=button, padx=20, pady=20, font=(\"Arial\", 14), bg=\"#2196F3\", fg=\"white\", command=button_equal).grid(row=row_val, column=col_val, padx=5, pady=5)\n",
    "    else:\n",
    "        tk.Button(root, text=button, padx=20, pady=20, font=(\"Arial\", 14), bg=\"#e0e0e0\", command=lambda b=button: button_click(b)).grid(row=row_val, column=col_val, padx=5, pady=5)\n",
    "    col_val += 1\n",
    "    if col_val > 3:\n",
    "        col_val = 0\n",
    "        row_val += 1\n",
    "\n",
    "# Clear button\n",
    "clear_button = tk.Button(root, text=\"C\", padx=20, pady=20, font=(\"Arial\", 14), bg=\"#f44336\", fg=\"white\", command=button_clear)\n",
    "clear_button.grid(row=row_val, column=col_val, padx=5, pady=5)\n",
    "\n",
    "# Start the GUI main loop\n",
    "root.mainloop()"
   ]
  },
  {
   "cell_type": "code",
   "execution_count": null,
   "id": "1b67f0c1-7317-42c4-88cd-3304678f8058",
   "metadata": {},
   "outputs": [],
   "source": []
  },
  {
   "cell_type": "code",
   "execution_count": null,
   "id": "abfb9a77-cdcc-4db8-ae46-3997986f3394",
   "metadata": {},
   "outputs": [],
   "source": []
  }
 ],
 "metadata": {
  "kernelspec": {
   "display_name": "Python 3 (ipykernel)",
   "language": "python",
   "name": "python3"
  },
  "language_info": {
   "codemirror_mode": {
    "name": "ipython",
    "version": 3
   },
   "file_extension": ".py",
   "mimetype": "text/x-python",
   "name": "python",
   "nbconvert_exporter": "python",
   "pygments_lexer": "ipython3",
   "version": "3.12.3"
  }
 },
 "nbformat": 4,
 "nbformat_minor": 5
}
